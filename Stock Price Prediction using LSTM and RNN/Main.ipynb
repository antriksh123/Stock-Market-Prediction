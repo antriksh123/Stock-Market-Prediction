{
 "cells": [
  {
   "attachments": {},
   "cell_type": "markdown",
   "metadata": {},
   "source": [
    "## Stock Price Prediction using LSTM"
   ]
  },
  {
   "attachments": {},
   "cell_type": "markdown",
   "metadata": {},
   "source": [
    "### Import Libraries"
   ]
  },
  {
   "cell_type": "code",
   "execution_count": 4,
   "metadata": {},
   "outputs": [],
   "source": [
    "import numpy as np\n",
    "import matplotlib.pyplot as plt \n",
    "import pandas as pd "
   ]
  },
  {
   "attachments": {},
   "cell_type": "markdown",
   "metadata": {},
   "source": [
    "### Preprocessing"
   ]
  },
  {
   "cell_type": "code",
   "execution_count": 5,
   "metadata": {},
   "outputs": [],
   "source": [
    "df_train = pd.read_csv('DataSet/Google_Stock_Price_Train.csv')"
   ]
  },
  {
   "cell_type": "code",
   "execution_count": 6,
   "metadata": {},
   "outputs": [],
   "source": [
    "# extracting open stock prices \n",
    "training_set = df_train.iloc[:, 1:2].values"
   ]
  },
  {
   "cell_type": "code",
   "execution_count": 7,
   "metadata": {},
   "outputs": [],
   "source": [
    "from sklearn.preprocessing import MinMaxScaler\n",
    "ms = MinMaxScaler(feature_range=(0,1))\n",
    "training_set_scaled = ms.fit_transform(training_set)"
   ]
  },
  {
   "cell_type": "code",
   "execution_count": 8,
   "metadata": {},
   "outputs": [
    {
     "name": "stdout",
     "output_type": "stream",
     "text": [
      "[[0.08581368 0.09701243 0.09433366 ... 0.07846566 0.08034452 0.08497656]\n",
      " [0.09701243 0.09433366 0.09156187 ... 0.08034452 0.08497656 0.08627874]\n",
      " [0.09433366 0.09156187 0.07984225 ... 0.08497656 0.08627874 0.08471612]\n",
      " ...\n",
      " [0.92106928 0.92438053 0.93048218 ... 0.95475854 0.95204256 0.95163331]\n",
      " [0.92438053 0.93048218 0.9299055  ... 0.95204256 0.95163331 0.95725128]\n",
      " [0.93048218 0.9299055  0.93113327 ... 0.95163331 0.95725128 0.93796041]]\n",
      "[0.08627874 0.08471612 0.07454052 ... 0.95725128 0.93796041 0.93688146]\n"
     ]
    }
   ],
   "source": [
    "# Data structure for RNN\n",
    "X_train = []\n",
    "Y_train = []\n",
    "for i in range(60, 1258):\n",
    "    X_train.append(training_set_scaled[i-60:i, 0])\n",
    "    Y_train.append(training_set_scaled[i, 0])\n",
    "\n",
    "X_train = np.array(X_train)\n",
    "Y_train = np.array(Y_train)\n",
    "print(X_train)\n",
    "print(Y_train)"
   ]
  },
  {
   "cell_type": "code",
   "execution_count": 9,
   "metadata": {},
   "outputs": [],
   "source": [
    "# converting to 3D\n",
    "# we can add other indicators which are affecting the price of our stock price \n",
    "# (row, column, number of indicators)\n",
    "X_train = np.reshape(X_train, (X_train.shape[0], X_train.shape[1], 1))"
   ]
  },
  {
   "attachments": {},
   "cell_type": "markdown",
   "metadata": {},
   "source": [
    "### Building RNN"
   ]
  },
  {
   "cell_type": "code",
   "execution_count": 10,
   "metadata": {},
   "outputs": [],
   "source": [
    "from keras.models import Sequential\n",
    "from keras.layers import Dense\n",
    "from keras.layers import LSTM\n",
    "from keras.layers import Dropout"
   ]
  },
  {
   "cell_type": "code",
   "execution_count": 11,
   "metadata": {},
   "outputs": [],
   "source": [
    "# initialise\n",
    "regressor = Sequential()"
   ]
  },
  {
   "cell_type": "code",
   "execution_count": 12,
   "metadata": {},
   "outputs": [],
   "source": [
    "# Adding LSTM layer \n",
    "# input should be sequence length, no. of indicators \n",
    "regressor.add(LSTM(units=50, return_sequences=True, input_shape = (X_train.shape[1], 1)))"
   ]
  },
  {
   "cell_type": "code",
   "execution_count": 13,
   "metadata": {},
   "outputs": [],
   "source": [
    "# dropout regulaisation to avoid overfitting \n",
    "regressor.add(Dropout(0.2))"
   ]
  },
  {
   "cell_type": "code",
   "execution_count": 14,
   "metadata": {},
   "outputs": [],
   "source": [
    "# second layer \n",
    "regressor.add(LSTM(units=50, return_sequences=True))\n",
    "regressor.add(Dropout(0.2))"
   ]
  },
  {
   "cell_type": "code",
   "execution_count": 15,
   "metadata": {},
   "outputs": [],
   "source": [
    "# third layer \n",
    "regressor.add(LSTM(units=50, return_sequences=True))\n",
    "regressor.add(Dropout(0.2))"
   ]
  },
  {
   "cell_type": "code",
   "execution_count": 16,
   "metadata": {},
   "outputs": [],
   "source": [
    "# Fourth layer\n",
    "regressor.add(LSTM(units=50, return_sequences=False))\n",
    "regressor.add(Dropout(0.2))"
   ]
  },
  {
   "cell_type": "code",
   "execution_count": 17,
   "metadata": {},
   "outputs": [],
   "source": [
    "regressor.add(Dense(1))"
   ]
  },
  {
   "cell_type": "code",
   "execution_count": 18,
   "metadata": {},
   "outputs": [],
   "source": [
    "regressor.compile(optimizer= 'adam', loss = 'mean_squared_error')"
   ]
  },
  {
   "cell_type": "code",
   "execution_count": 19,
   "metadata": {},
   "outputs": [
    {
     "name": "stdout",
     "output_type": "stream",
     "text": [
      "Epoch 1/100\n",
      "38/38 [==============================] - 13s 59ms/step - loss: 0.0642\n",
      "Epoch 2/100\n",
      "38/38 [==============================] - 2s 60ms/step - loss: 0.0070\n",
      "Epoch 3/100\n",
      "38/38 [==============================] - 2s 65ms/step - loss: 0.0057\n",
      "Epoch 4/100\n",
      "38/38 [==============================] - 3s 79ms/step - loss: 0.0052\n",
      "Epoch 5/100\n",
      "38/38 [==============================] - 2s 60ms/step - loss: 0.0052\n",
      "Epoch 6/100\n",
      "38/38 [==============================] - 2s 61ms/step - loss: 0.0050\n",
      "Epoch 7/100\n",
      "38/38 [==============================] - 3s 70ms/step - loss: 0.0049\n",
      "Epoch 8/100\n",
      "38/38 [==============================] - 3s 84ms/step - loss: 0.0049\n",
      "Epoch 9/100\n",
      "38/38 [==============================] - 3s 92ms/step - loss: 0.0047\n",
      "Epoch 10/100\n",
      "38/38 [==============================] - 3s 74ms/step - loss: 0.0041\n",
      "Epoch 11/100\n",
      "38/38 [==============================] - 4s 93ms/step - loss: 0.0040\n",
      "Epoch 12/100\n",
      "38/38 [==============================] - 3s 77ms/step - loss: 0.0042\n",
      "Epoch 13/100\n",
      "38/38 [==============================] - 3s 86ms/step - loss: 0.0041\n",
      "Epoch 14/100\n",
      "38/38 [==============================] - 6s 147ms/step - loss: 0.0037\n",
      "Epoch 15/100\n",
      "38/38 [==============================] - 7s 189ms/step - loss: 0.0038\n",
      "Epoch 16/100\n",
      "38/38 [==============================] - 7s 192ms/step - loss: 0.0037\n",
      "Epoch 17/100\n",
      "38/38 [==============================] - 7s 191ms/step - loss: 0.0035\n",
      "Epoch 18/100\n",
      "38/38 [==============================] - 7s 192ms/step - loss: 0.0040\n",
      "Epoch 19/100\n",
      "38/38 [==============================] - 7s 176ms/step - loss: 0.0035\n",
      "Epoch 20/100\n",
      "38/38 [==============================] - 7s 194ms/step - loss: 0.0036\n",
      "Epoch 21/100\n",
      "38/38 [==============================] - 8s 202ms/step - loss: 0.0042\n",
      "Epoch 22/100\n",
      "38/38 [==============================] - 8s 206ms/step - loss: 0.0039\n",
      "Epoch 23/100\n",
      "38/38 [==============================] - 8s 206ms/step - loss: 0.0037\n",
      "Epoch 24/100\n",
      "38/38 [==============================] - 8s 208ms/step - loss: 0.0037\n",
      "Epoch 25/100\n",
      "38/38 [==============================] - 8s 203ms/step - loss: 0.0034\n",
      "Epoch 26/100\n",
      "38/38 [==============================] - 8s 206ms/step - loss: 0.0030\n",
      "Epoch 27/100\n",
      "38/38 [==============================] - 8s 213ms/step - loss: 0.0031\n",
      "Epoch 28/100\n",
      "38/38 [==============================] - 8s 204ms/step - loss: 0.0028\n",
      "Epoch 29/100\n",
      "38/38 [==============================] - 8s 210ms/step - loss: 0.0029\n",
      "Epoch 30/100\n",
      "38/38 [==============================] - 8s 211ms/step - loss: 0.0032\n",
      "Epoch 31/100\n",
      "38/38 [==============================] - 8s 207ms/step - loss: 0.0028\n",
      "Epoch 32/100\n",
      "38/38 [==============================] - 8s 205ms/step - loss: 0.0032\n",
      "Epoch 33/100\n",
      "38/38 [==============================] - 8s 204ms/step - loss: 0.0036\n",
      "Epoch 34/100\n",
      "38/38 [==============================] - 8s 210ms/step - loss: 0.0032\n",
      "Epoch 35/100\n",
      "38/38 [==============================] - 6s 154ms/step - loss: 0.0029\n",
      "Epoch 36/100\n",
      "38/38 [==============================] - 4s 110ms/step - loss: 0.0028\n",
      "Epoch 37/100\n",
      "38/38 [==============================] - 4s 93ms/step - loss: 0.0027\n",
      "Epoch 38/100\n",
      "38/38 [==============================] - 4s 95ms/step - loss: 0.0027\n",
      "Epoch 39/100\n",
      "38/38 [==============================] - 4s 96ms/step - loss: 0.0027\n",
      "Epoch 40/100\n",
      "38/38 [==============================] - 4s 96ms/step - loss: 0.0027\n",
      "Epoch 41/100\n",
      "38/38 [==============================] - 3s 92ms/step - loss: 0.0028\n",
      "Epoch 42/100\n",
      "38/38 [==============================] - 4s 96ms/step - loss: 0.0028\n",
      "Epoch 43/100\n",
      "38/38 [==============================] - 4s 97ms/step - loss: 0.0025\n",
      "Epoch 44/100\n",
      "38/38 [==============================] - 4s 95ms/step - loss: 0.0025\n",
      "Epoch 45/100\n",
      "38/38 [==============================] - 3s 89ms/step - loss: 0.0025\n",
      "Epoch 46/100\n",
      "38/38 [==============================] - 4s 111ms/step - loss: 0.0024\n",
      "Epoch 47/100\n",
      "38/38 [==============================] - 7s 189ms/step - loss: 0.0028\n",
      "Epoch 48/100\n",
      "38/38 [==============================] - 7s 189ms/step - loss: 0.0026\n",
      "Epoch 49/100\n",
      "38/38 [==============================] - 7s 188ms/step - loss: 0.0025\n",
      "Epoch 50/100\n",
      "38/38 [==============================] - 7s 190ms/step - loss: 0.0024\n",
      "Epoch 51/100\n",
      "38/38 [==============================] - 7s 188ms/step - loss: 0.0024\n",
      "Epoch 52/100\n",
      "38/38 [==============================] - 7s 187ms/step - loss: 0.0027\n",
      "Epoch 53/100\n",
      "38/38 [==============================] - 7s 188ms/step - loss: 0.0023\n",
      "Epoch 54/100\n",
      "38/38 [==============================] - 7s 187ms/step - loss: 0.0024\n",
      "Epoch 55/100\n",
      "38/38 [==============================] - 7s 190ms/step - loss: 0.0027\n",
      "Epoch 56/100\n",
      "38/38 [==============================] - 7s 193ms/step - loss: 0.0023\n",
      "Epoch 57/100\n",
      "38/38 [==============================] - 6s 150ms/step - loss: 0.0026\n",
      "Epoch 58/100\n",
      "38/38 [==============================] - 4s 117ms/step - loss: 0.0024\n",
      "Epoch 59/100\n",
      "38/38 [==============================] - 5s 120ms/step - loss: 0.0023\n",
      "Epoch 60/100\n",
      "38/38 [==============================] - 4s 94ms/step - loss: 0.0023\n",
      "Epoch 61/100\n",
      "38/38 [==============================] - 8s 202ms/step - loss: 0.0021\n",
      "Epoch 62/100\n",
      "38/38 [==============================] - 8s 206ms/step - loss: 0.0022\n",
      "Epoch 63/100\n",
      "38/38 [==============================] - 8s 206ms/step - loss: 0.0022\n",
      "Epoch 64/100\n",
      "38/38 [==============================] - 8s 204ms/step - loss: 0.0020\n",
      "Epoch 65/100\n",
      "38/38 [==============================] - 8s 203ms/step - loss: 0.0022\n",
      "Epoch 66/100\n",
      "38/38 [==============================] - 8s 205ms/step - loss: 0.0019\n",
      "Epoch 67/100\n",
      "38/38 [==============================] - 8s 207ms/step - loss: 0.0022\n",
      "Epoch 68/100\n",
      "38/38 [==============================] - 8s 204ms/step - loss: 0.0022\n",
      "Epoch 69/100\n",
      "38/38 [==============================] - 8s 206ms/step - loss: 0.0021\n",
      "Epoch 70/100\n",
      "38/38 [==============================] - 8s 201ms/step - loss: 0.0019\n",
      "Epoch 71/100\n",
      "38/38 [==============================] - 8s 201ms/step - loss: 0.0023\n",
      "Epoch 72/100\n",
      "38/38 [==============================] - 8s 204ms/step - loss: 0.0020\n",
      "Epoch 73/100\n",
      "38/38 [==============================] - 8s 204ms/step - loss: 0.0018\n",
      "Epoch 74/100\n",
      "38/38 [==============================] - 8s 201ms/step - loss: 0.0020\n",
      "Epoch 75/100\n",
      "38/38 [==============================] - 8s 207ms/step - loss: 0.0019\n",
      "Epoch 76/100\n",
      "38/38 [==============================] - 8s 202ms/step - loss: 0.0019\n",
      "Epoch 77/100\n",
      "38/38 [==============================] - 8s 201ms/step - loss: 0.0018\n",
      "Epoch 78/100\n",
      "38/38 [==============================] - 8s 206ms/step - loss: 0.0019\n",
      "Epoch 79/100\n",
      "38/38 [==============================] - 7s 173ms/step - loss: 0.0020\n",
      "Epoch 80/100\n",
      "38/38 [==============================] - 7s 174ms/step - loss: 0.0018\n",
      "Epoch 81/100\n",
      "38/38 [==============================] - 8s 210ms/step - loss: 0.0018\n",
      "Epoch 82/100\n",
      "38/38 [==============================] - 8s 200ms/step - loss: 0.0018\n",
      "Epoch 83/100\n",
      "38/38 [==============================] - 8s 217ms/step - loss: 0.0017\n",
      "Epoch 84/100\n",
      "38/38 [==============================] - 8s 216ms/step - loss: 0.0018\n",
      "Epoch 85/100\n",
      "38/38 [==============================] - 8s 217ms/step - loss: 0.0016\n",
      "Epoch 86/100\n",
      "38/38 [==============================] - 8s 213ms/step - loss: 0.0017\n",
      "Epoch 87/100\n",
      "38/38 [==============================] - 9s 237ms/step - loss: 0.0017\n",
      "Epoch 88/100\n",
      "38/38 [==============================] - 9s 225ms/step - loss: 0.0017\n",
      "Epoch 89/100\n",
      "38/38 [==============================] - 8s 198ms/step - loss: 0.0016\n",
      "Epoch 90/100\n",
      "38/38 [==============================] - 7s 173ms/step - loss: 0.0017\n",
      "Epoch 91/100\n",
      "38/38 [==============================] - 7s 178ms/step - loss: 0.0017\n",
      "Epoch 92/100\n",
      "38/38 [==============================] - 5s 140ms/step - loss: 0.0015\n",
      "Epoch 93/100\n",
      "38/38 [==============================] - 6s 147ms/step - loss: 0.0015\n",
      "Epoch 94/100\n",
      "38/38 [==============================] - 5s 135ms/step - loss: 0.0018\n",
      "Epoch 95/100\n",
      "38/38 [==============================] - 5s 144ms/step - loss: 0.0014\n",
      "Epoch 96/100\n",
      "38/38 [==============================] - 6s 152ms/step - loss: 0.0014\n",
      "Epoch 97/100\n",
      "38/38 [==============================] - 5s 140ms/step - loss: 0.0014\n",
      "Epoch 98/100\n",
      "38/38 [==============================] - 6s 149ms/step - loss: 0.0015\n",
      "Epoch 99/100\n",
      "38/38 [==============================] - 6s 146ms/step - loss: 0.0016\n",
      "Epoch 100/100\n",
      "38/38 [==============================] - 6s 148ms/step - loss: 0.0014\n"
     ]
    },
    {
     "data": {
      "text/plain": [
       "<keras.callbacks.History at 0x27ad5283fd0>"
      ]
     },
     "execution_count": 19,
     "metadata": {},
     "output_type": "execute_result"
    }
   ],
   "source": [
    "regressor.fit(x = X_train, y = Y_train, epochs=100, batch_size=32)"
   ]
  },
  {
   "attachments": {},
   "cell_type": "markdown",
   "metadata": {},
   "source": [
    "### Prediction"
   ]
  },
  {
   "cell_type": "code",
   "execution_count": 20,
   "metadata": {},
   "outputs": [],
   "source": [
    "df_test = pd.read_csv('DataSet/Google_Stock_Price_Test.csv')\n",
    "real_Stock_price = df_test.iloc[:, 1:2].values"
   ]
  },
  {
   "cell_type": "code",
   "execution_count": 21,
   "metadata": {},
   "outputs": [],
   "source": [
    "df_total = pd.concat((df_train['Open'], df_test['Open']), axis=0)"
   ]
  },
  {
   "cell_type": "code",
   "execution_count": 31,
   "metadata": {},
   "outputs": [
    {
     "name": "stderr",
     "output_type": "stream",
     "text": [
      "C:\\Users\\Antriksh\\AppData\\Local\\Temp\\ipykernel_20844\\1969624535.py:1: FutureWarning: The behavior of `series[i:j]` with an integer-dtype index is deprecated. In a future version, this will be treated as *label-based* indexing, consistent with e.g. `series[i]` lookups. To retain the old behavior, use `series.iloc[i:j]`. To get the future behavior, use `series.loc[i:j]`.\n",
      "  inputs = df_total[len(df_total) - len(df_test) - 60: len(df_total)].values\n"
     ]
    }
   ],
   "source": [
    "inputs = df_total[len(df_total) - len(df_test) - 60: len(df_total)].values"
   ]
  },
  {
   "cell_type": "code",
   "execution_count": 32,
   "metadata": {},
   "outputs": [
    {
     "data": {
      "text/plain": [
       "(80,)"
      ]
     },
     "execution_count": 32,
     "metadata": {},
     "output_type": "execute_result"
    }
   ],
   "source": [
    "inputs.shape"
   ]
  },
  {
   "cell_type": "code",
   "execution_count": 33,
   "metadata": {},
   "outputs": [
    {
     "data": {
      "text/plain": [
       "(80, 1)"
      ]
     },
     "execution_count": 33,
     "metadata": {},
     "output_type": "execute_result"
    }
   ],
   "source": [
    "inputs = inputs.reshape(-1, 1)\n",
    "inputs.shape"
   ]
  },
  {
   "cell_type": "code",
   "execution_count": 34,
   "metadata": {},
   "outputs": [],
   "source": [
    "inputs = ms.transform(inputs)\n"
   ]
  },
  {
   "cell_type": "code",
   "execution_count": 36,
   "metadata": {},
   "outputs": [],
   "source": [
    "X_test = []\n",
    "for i in range(60, inputs.shape[0]):\n",
    "    X_test.append(inputs[i-60:i, 0])\n",
    "\n",
    "X_test = np.array(X_test)"
   ]
  },
  {
   "cell_type": "code",
   "execution_count": 37,
   "metadata": {},
   "outputs": [],
   "source": [
    "X_test = np.reshape(X_test, (X_test.shape[0], X_test.shape[1], 1))"
   ]
  },
  {
   "cell_type": "code",
   "execution_count": 38,
   "metadata": {},
   "outputs": [
    {
     "name": "stdout",
     "output_type": "stream",
     "text": [
      "1/1 [==============================] - 3s 3s/step\n"
     ]
    }
   ],
   "source": [
    "pred_price = regressor.predict(X_test)"
   ]
  },
  {
   "cell_type": "code",
   "execution_count": 40,
   "metadata": {},
   "outputs": [],
   "source": [
    "# the above will gives us scaled values so we will inverse scale this \n",
    "pred_price = ms.inverse_transform(pred_price)"
   ]
  },
  {
   "attachments": {},
   "cell_type": "markdown",
   "metadata": {},
   "source": [
    "### Evaluation & Visualisation"
   ]
  },
  {
   "cell_type": "code",
   "execution_count": 42,
   "metadata": {},
   "outputs": [
    {
     "data": {
      "image/png": "[encoded data removed]",
      "text/plain": [
       "<Figure size 640x480 with 1 Axes>"
      ]
     },
     "metadata": {},
     "output_type": "display_data"
    }
   ],
   "source": [
    "plt.plot(real_Stock_price, color = 'red', label = 'Real Stock Price')\n",
    "plt.plot(pred_price, color = 'green', label = 'Predicted Stock Price')\n",
    "plt.title(\"Google Stock Price Prediction\")\n",
    "plt.xlabel(\"Time\")\n",
    "plt.ylabel(\"Price(USD)\")\n",
    "plt.legend()\n",
    "plt.show()"
   ]
  },
  {
   "cell_type": "code",
   "execution_count": 43,
   "metadata": {},
   "outputs": [],
   "source": [
    "# Thank You !!"
   ]
  }
 ],
 "metadata": {
  "kernelspec": {
   "display_name": "Python 3",
   "language": "python",
   "name": "python3"
  },
  "language_info": {
   "codemirror_mode": {
    "name": "ipython",
    "version": 3
   },
   "file_extension": ".py",
   "mimetype": "text/x-python",
   "name": "python",
   "nbconvert_exporter": "python",
   "pygments_lexer": "ipython3",
   "version": "3.11.1"
  },
  "orig_nbformat": 4
 },
 "nbformat": 4,
 "nbformat_minor": 2
}
